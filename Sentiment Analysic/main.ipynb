{
 "cells": [
  {
   "cell_type": "code",
   "execution_count": 1,
   "metadata": {},
   "outputs": [
    {
     "data": {
      "text/html": [
       "<div>\n",
       "<style scoped>\n",
       "    .dataframe tbody tr th:only-of-type {\n",
       "        vertical-align: middle;\n",
       "    }\n",
       "\n",
       "    .dataframe tbody tr th {\n",
       "        vertical-align: top;\n",
       "    }\n",
       "\n",
       "    .dataframe thead th {\n",
       "        text-align: right;\n",
       "    }\n",
       "</style>\n",
       "<table border=\"1\" class=\"dataframe\">\n",
       "  <thead>\n",
       "    <tr style=\"text-align: right;\">\n",
       "      <th></th>\n",
       "      <th>PhraseId</th>\n",
       "      <th>SentenceId</th>\n",
       "      <th>Phrase</th>\n",
       "      <th>Sentiment</th>\n",
       "    </tr>\n",
       "  </thead>\n",
       "  <tbody>\n",
       "    <tr>\n",
       "      <th>0</th>\n",
       "      <td>1</td>\n",
       "      <td>1</td>\n",
       "      <td>A series of escapades demonstrating the adage ...</td>\n",
       "      <td>1</td>\n",
       "    </tr>\n",
       "    <tr>\n",
       "      <th>1</th>\n",
       "      <td>2</td>\n",
       "      <td>1</td>\n",
       "      <td>A series of escapades demonstrating the adage ...</td>\n",
       "      <td>2</td>\n",
       "    </tr>\n",
       "    <tr>\n",
       "      <th>2</th>\n",
       "      <td>3</td>\n",
       "      <td>1</td>\n",
       "      <td>A series</td>\n",
       "      <td>2</td>\n",
       "    </tr>\n",
       "    <tr>\n",
       "      <th>3</th>\n",
       "      <td>4</td>\n",
       "      <td>1</td>\n",
       "      <td>A</td>\n",
       "      <td>2</td>\n",
       "    </tr>\n",
       "    <tr>\n",
       "      <th>4</th>\n",
       "      <td>5</td>\n",
       "      <td>1</td>\n",
       "      <td>series</td>\n",
       "      <td>2</td>\n",
       "    </tr>\n",
       "  </tbody>\n",
       "</table>\n",
       "</div>"
      ],
      "text/plain": [
       "   PhraseId  SentenceId                                             Phrase  \\\n",
       "0         1           1  A series of escapades demonstrating the adage ...   \n",
       "1         2           1  A series of escapades demonstrating the adage ...   \n",
       "2         3           1                                           A series   \n",
       "3         4           1                                                  A   \n",
       "4         5           1                                             series   \n",
       "\n",
       "   Sentiment  \n",
       "0          1  \n",
       "1          2  \n",
       "2          2  \n",
       "3          2  \n",
       "4          2  "
      ]
     },
     "execution_count": 1,
     "metadata": {},
     "output_type": "execute_result"
    }
   ],
   "source": [
    "import pandas as pd\n",
    "\n",
    "trainfile = 'train.tsv'\n",
    "testfile = 'test.tsv'\n",
    "train = pd.read_csv(trainfile,sep='\\t')\n",
    "test = pd.read_csv(testfile,sep='\\t')\n",
    "train.head()\n"
   ]
  },
  {
   "cell_type": "code",
   "execution_count": 13,
   "metadata": {},
   "outputs": [
    {
     "name": "stdout",
     "output_type": "stream",
     "text": [
      "3    0\n",
      "4    1\n",
      "5    2\n",
      "6    3\n",
      "7    4\n",
      "8    5\n",
      "9    6\n",
      "0    7\n",
      "1    8\n",
      "dtype: int32\n",
      "4\n"
     ]
    }
   ],
   "source": [
    "import numpy as np\n",
    "import pandas as pd\n",
    "arr = np.array(np.arange(12)).reshape(3,4)\n",
    "data = pd.DataFrame(arr)\n",
    "s1 = pd.Series(np.arange(9))\n",
    "s1.index=[3,4,5,6,7,8,9,0,1]\n",
    "print(s1)\n",
    "print(s1[7])"
   ]
  },
  {
   "cell_type": "code",
   "execution_count": 18,
   "metadata": {},
   "outputs": [
    {
     "name": "stdout",
     "output_type": "stream",
     "text": [
      "   a  b   c   d  e\n",
      "0  1  3   5   2  7\n",
      "1  2  2   1  51  9\n",
      "2  5  1  11  11  0\n",
      "3  6  4  22  22  8\n",
      "4  9  6   3   3  7\n",
      "5  3  7  44  12  6\n",
      "6  5  9   5  34  7\n",
      "   a  b   c   d  e\n",
      "0  1  3   5   2  7\n",
      "1  2  2   1  51  9\n",
      "2  5  1  11  11  0\n",
      "3  6  4  22  22  8\n",
      "4  9  6   3   3  7\n",
      "   a  b   c   d  e\n",
      "2  5  1  11  11  0\n",
      "3  6  4  22  22  8\n",
      "4  9  6   3   3  7\n",
      "5  3  7  44  12  6\n",
      "6  5  9   5  34  7\n"
     ]
    }
   ],
   "source": [
    "import numpy as np\n",
    "import pandas as pd\n",
    "dic = {'a':[1,2,5,6,9,3,5],'b':[3,2,1,4,6,7,9],'c':[5,1,11,22,3,44,5],'d':[2,51,11,22,3,12,34],'e':[7,9,0,8,7,6,7]}\n",
    "dataf = pd.DataFrame(dic)\n",
    "print(dataf)\n",
    "print(dataf.head())\n",
    "print(dataf.tail())\n"
   ]
  },
  {
   "cell_type": "code",
   "execution_count": 22,
   "metadata": {},
   "outputs": [
    {
     "name": "stdout",
     "output_type": "stream",
     "text": [
      "   a  b   c   d  e\n",
      "1  2  2   1  51  9\n",
      "2  5  1  11  11  0\n",
      "5  3  7  44  12  6\n",
      "   a   d\n",
      "0  1   2\n",
      "1  2  51\n",
      "2  5  11\n",
      "3  6  22\n",
      "4  9   3\n"
     ]
    }
   ],
   "source": [
    "print(dataf.loc[[1,2,5]])\n",
    "print(dataf[['a','d']].head())"
   ]
  },
  {
   "cell_type": "code",
   "execution_count": 24,
   "metadata": {},
   "outputs": [
    {
     "name": "stdout",
     "output_type": "stream",
     "text": [
      "    Age  Height     Name Sex  Weight\n",
      "0    14    69.0   Alfred   M   112.5\n",
      "1    13    56.5    Alice   F    84.0\n",
      "2    13    65.3  Barbara   F    98.0\n",
      "3    14    62.8    Carol   F   102.5\n",
      "4    14    63.5    Henry   M   102.5\n",
      "5    12    57.3    James   M    83.0\n",
      "6    12    59.8     Jane   F    84.5\n",
      "7    15    62.5    Janet   F   112.5\n",
      "8    13    62.5  Jeffrey   M    84.0\n",
      "9    12    59.0     John   M    99.5\n",
      "10   11    51.3    Joyce   F    50.5\n",
      "11   14    64.3     Judy   F    90.0\n",
      "12   12    56.3   Louise   F    77.0\n",
      "13   15    66.5    Marry   F   112.0\n",
      "14   16    72.0   Philip   M   150.0\n",
      "15   12    64.8   Robert   M   128.0\n",
      "16   15    67.0   Ronald   M   133.0\n",
      "17   11    57.5   Thomas   M    85.0\n",
      "18   15    66.5   Willam   M   112.0\n"
     ]
    }
   ],
   "source": [
    "import pandas as pd\n",
    "\n",
    "stu_dic = {'Age':[14,13,13,14,14,12,12,15,13,12,11,14,12,15,16,12,15,11,15],\n",
    "'Height':[69,56.5,65.3,62.8,63.5,57.3,59.8,62.5,62.5,59,51.3,64.3,56.3,66.5,72,64.8,67,57.5,66.5],\n",
    "'Name':['Alfred','Alice','Barbara','Carol','Henry','James','Jane','Janet','Jeffrey','John','Joyce','Judy','Louise','Marry','Philip','Robert','Ronald','Thomas','Willam'],\n",
    "'Sex':['M','F','F','F','M','M','F','F','M','M','F','F','F','F','M','M','M','M','M'],\n",
    "'Weight':[112.5,84,98,102.5,102.5,83,84.5,112.5,84,99.5,50.5,90,77,112,150,128,133,85,112]}\n",
    "student = pd.DataFrame(stu_dic)\n",
    "print(student)"
   ]
  },
  {
   "cell_type": "code",
   "execution_count": 32,
   "metadata": {},
   "outputs": [
    {
     "name": "stdout",
     "output_type": "stream",
     "text": [
      "      Name  Score\n",
      "0   Alfred     88\n",
      "1    Alice     76\n",
      "2  Barbara     89\n",
      "3    Carol     67\n",
      "4    Henry     79\n",
      "5  Jeffrey     90\n",
      "6     Judy     92\n",
      "7   Philip     86\n",
      "8   Robert     73\n",
      "9   Willam     77\n"
     ]
    }
   ],
   "source": []
  },
  {
   "cell_type": "code",
   "execution_count": 38,
   "metadata": {},
   "outputs": [
    {
     "name": "stdout",
     "output_type": "stream",
     "text": [
      "    Age  Height     Name Sex  Weight  Score\n",
      "0    14    69.0   Alfred   M   112.5   88.0\n",
      "1    13    56.5    Alice   F    84.0   76.0\n",
      "2    13    65.3  Barbara   F    98.0   89.0\n",
      "3    14    62.8    Carol   F   102.5   67.0\n",
      "4    14    63.5    Henry   M   102.5   79.0\n",
      "5    12    57.3    James   M    83.0    NaN\n",
      "6    12    59.8     Jane   F    84.5    NaN\n",
      "7    15    62.5    Janet   F   112.5    NaN\n",
      "8    13    62.5  Jeffrey   M    84.0   90.0\n",
      "9    12    59.0     John   M    99.5    NaN\n",
      "10   11    51.3    Joyce   F    50.5    NaN\n",
      "11   14    64.3     Judy   F    90.0   92.0\n",
      "12   12    56.3   Louise   F    77.0    NaN\n",
      "13   15    66.5    Marry   F   112.0    NaN\n",
      "14   16    72.0   Philip   M   150.0   86.0\n",
      "15   12    64.8   Robert   M   128.0   73.0\n",
      "16   15    67.0   Ronald   M   133.0    NaN\n",
      "17   11    57.5   Thomas   M    85.0    NaN\n",
      "18   15    66.5   Willam   M   112.0   77.0\n"
     ]
    }
   ],
   "source": [
    "import pandas as pd\n",
    "stu_score = pd.merge(student,score,on='Name',how = 'outer')\n",
    "print(stu_score)"
   ]
  },
  {
   "cell_type": "code",
   "execution_count": 43,
   "metadata": {},
   "outputs": [
    {
     "name": "stdout",
     "output_type": "stream",
     "text": [
      "      x1     x2     x3\n",
      "0  False  False  False\n",
      "1  False  False   True\n",
      "2  False  False  False\n",
      "3  False   True  False\n",
      "4   True   True   True\n",
      "5   True  False  False\n",
      "     x1    x2    x3\n",
      "0     1     1     2\n",
      "1     3     5  True\n",
      "2    13    21    34\n",
      "3    55  True    10\n",
      "4  True  True  True\n",
      "5  True     1     2\n"
     ]
    }
   ],
   "source": [
    "df = pd.DataFrame([[1,1,2],[3,5,np.nan],[13,21,34],[55,np.nan,10],[np.nan,np.nan,np.nan],[np.nan,1,2]],columns=('x1','x2','x3'))\n",
    "\n",
    "mean = pd.isnull(df)\n",
    "print(mean)\n",
    "print(df.fillna(mean))"
   ]
  },
  {
   "cell_type": "code",
   "execution_count": null,
   "metadata": {},
   "outputs": [],
   "source": [
    "dic2 = {'Name':['Alfred','Alice','Barbara','Carol','Henry','Jeffrey','Judy','Philip','Robert','Willam'],\n",
    "        'Score':[88,76,89,67,79,90,92,86,73,77]}\n",
    "score = pd.DataFrame(dic2)\n",
    "print(score)"
   ]
  }
 ],
 "metadata": {
  "kernelspec": {
   "display_name": "Python 3",
   "language": "python",
   "name": "python3"
  },
  "language_info": {
   "codemirror_mode": {
    "name": "ipython",
    "version": 3
   },
   "file_extension": ".py",
   "mimetype": "text/x-python",
   "name": "python",
   "nbconvert_exporter": "python",
   "pygments_lexer": "ipython3",
   "version": "3.6.6"
  }
 },
 "nbformat": 4,
 "nbformat_minor": 2
}
