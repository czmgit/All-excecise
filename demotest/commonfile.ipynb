{
 "cells": [
  {
   "cell_type": "code",
   "execution_count": 1,
   "metadata": {},
   "outputs": [
    {
     "name": "stdout",
     "output_type": "stream",
     "text": [
      "    Age  Height     Name Sex  Weight\n",
      "0    14    69.0   Alfred   M   112.5\n",
      "1    13    56.5    Alice   F    84.0\n",
      "2    13    65.3  Barbara   F    98.0\n",
      "3    14    62.8    Carol   F   102.5\n",
      "4    14    63.5    Henry   M   102.5\n",
      "5    12    57.3    James   M    83.0\n",
      "6    12    59.8     Jane   F    84.5\n",
      "7    15    62.5    Janet   F   112.5\n",
      "8    13    62.5  Jeffrey   M    84.0\n",
      "9    12    59.0     John   M    99.5\n",
      "10   11    51.3    Joyce   F    50.5\n",
      "11   14    64.3     Judy   F    90.0\n",
      "12   12    56.3   Louise   F    77.0\n",
      "13   15    66.5    Marry   F   112.0\n",
      "14   16    72.0   Philip   M   150.0\n",
      "15   12    64.8   Robert   M   128.0\n",
      "16   15    67.0   Ronald   M   133.0\n",
      "17   11    57.5   Thomas   M    85.0\n",
      "18   15    66.5   Willam   M   112.0\n"
     ]
    }
   ],
   "source": [
    "import pandas as pd\n",
    "\n",
    "stu_dic = {'Age':[14,13,13,14,14,12,12,15,13,12,11,14,12,15,16,12,15,11,15],\n",
    "'Height':[69,56.5,65.3,62.8,63.5,57.3,59.8,62.5,62.5,59,51.3,64.3,56.3,66.5,72,64.8,67,57.5,66.5],\n",
    "'Name':['Alfred','Alice','Barbara','Carol','Henry','James','Jane','Janet','Jeffrey','John','Joyce','Judy','Louise','Marry','Philip','Robert','Ronald','Thomas','Willam'],\n",
    "'Sex':['M','F','F','F','M','M','F','F','M','M','F','F','F','F','M','M','M','M','M'],\n",
    "'Weight':[112.5,84,98,102.5,102.5,83,84.5,112.5,84,99.5,50.5,90,77,112,150,128,133,85,112]}\n",
    "student = pd.DataFrame(stu_dic)\n",
    "print(student)"
   ]
  },
  {
   "cell_type": "code",
   "execution_count": 5,
   "metadata": {},
   "outputs": [
    {
     "name": "stdout",
     "output_type": "stream",
     "text": [
      "RangeIndex(start=1, stop=3, step=1)\n"
     ]
    }
   ],
   "source": [
    "print(student.index[1:3])"
   ]
  },
  {
   "cell_type": "code",
   "execution_count": null,
   "metadata": {},
   "outputs": [],
   "source": []
  },
  {
   "cell_type": "code",
   "execution_count": null,
   "metadata": {},
   "outputs": [],
   "source": []
  }
 ],
 "metadata": {
  "kernelspec": {
   "display_name": "Python 3",
   "language": "python",
   "name": "python3"
  },
  "language_info": {
   "codemirror_mode": {
    "name": "ipython",
    "version": 3
   },
   "file_extension": ".py",
   "mimetype": "text/x-python",
   "name": "python",
   "nbconvert_exporter": "python",
   "pygments_lexer": "ipython3",
   "version": "3.6.6"
  }
 },
 "nbformat": 4,
 "nbformat_minor": 2
}
